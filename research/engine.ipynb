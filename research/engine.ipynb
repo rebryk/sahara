{
 "cells": [
  {
   "cell_type": "code",
   "execution_count": 1,
   "metadata": {},
   "outputs": [],
   "source": [
    "%load_ext autoreload\n",
    "%autoreload 2"
   ]
  },
  {
   "cell_type": "code",
   "execution_count": 16,
   "metadata": {},
   "outputs": [],
   "source": [
    "import os\n",
    "import tqdm\n",
    "import pickle\n",
    "import openai\n",
    "import pathlib\n",
    "import pandas as pd\n",
    "\n",
    "from typing import List\n",
    "from openai import embeddings_utils as utils"
   ]
  },
  {
   "cell_type": "code",
   "execution_count": 3,
   "metadata": {},
   "outputs": [],
   "source": [
    "ORGANIZATION = \"\"\n",
    "API_KEY = \"\""
   ]
  },
  {
   "cell_type": "code",
   "execution_count": 4,
   "metadata": {},
   "outputs": [],
   "source": [
    "openai.organization = ORGANIZATION\n",
    "openai.api_key = API_KEY"
   ]
  },
  {
   "cell_type": "markdown",
   "metadata": {},
   "source": [
    "## Embeddings"
   ]
  },
  {
   "cell_type": "code",
   "execution_count": 34,
   "metadata": {},
   "outputs": [],
   "source": [
    "def drop_duplicates(df: pd.DataFrame) -> pd.DataFrame:\n",
    "    df = df.drop_duplicates(subset=\"id\", keep=\"first\")\n",
    "    df = df.drop_duplicates(subset=\"name\", keep=\"first\")\n",
    "    df = df.reset_index(drop=True)\n",
    "    return df"
   ]
  },
  {
   "cell_type": "markdown",
   "metadata": {},
   "source": [
    "### Build cache"
   ]
  },
  {
   "cell_type": "code",
   "execution_count": 5,
   "metadata": {},
   "outputs": [],
   "source": [
    "EMBEDDING_CACHE_PATH = \"data/embedding_cache.pickle\""
   ]
  },
  {
   "cell_type": "code",
   "execution_count": 6,
   "metadata": {},
   "outputs": [],
   "source": [
    "try:\n",
    "    EMBEDDING_CACHE = pd.read_pickle(EMBEDDING_CACHE_PATH)\n",
    "except FileNotFoundError:\n",
    "    EMBEDDING_CACHE = {}"
   ]
  },
  {
   "cell_type": "code",
   "execution_count": 155,
   "metadata": {},
   "outputs": [],
   "source": [
    "def save_cache():\n",
    "    with open(EMBEDDING_CACHE_PATH, \"wb\") as embedding_cache_file:\n",
    "        pickle.dump(EMBEDDING_CACHE, embedding_cache_file)"
   ]
  },
  {
   "cell_type": "code",
   "execution_count": 156,
   "metadata": {},
   "outputs": [],
   "source": [
    "def embedding_from_string(string: str, engine: str = \"text-similarity-babbage-001\", save: bool = True) -> List:\n",
    "    \"\"\"Return embedding of given string, using a cache to avoid recomputing.\"\"\"\n",
    "    if (string, engine) not in EMBEDDING_CACHE.keys():\n",
    "        EMBEDDING_CACHE[(string, engine)] = utils.get_embedding(string, engine)\n",
    "        \n",
    "        if save:\n",
    "            save_cache()\n",
    "\n",
    "    return EMBEDDING_CACHE[(string, engine)]"
   ]
  },
  {
   "cell_type": "markdown",
   "metadata": {},
   "source": [
    "### Search"
   ]
  },
  {
   "cell_type": "code",
   "execution_count": 8,
   "metadata": {},
   "outputs": [],
   "source": [
    "def find_best_documents(\n",
    "    query: str,\n",
    "    documents: List[dict],\n",
    "    engine: str= \"text-similarity-babbage-001\",\n",
    "    count: int = 1\n",
    ") -> List[int]:\n",
    "    query_embedding = embedding_from_string(query, engine=engine)\n",
    "    embeddings = [embedding_from_string(doc[\"content\"], engine=engine) for doc in documents]\n",
    "    distances = utils.distances_from_embeddings(query_embedding, embeddings, distance_metric=\"cosine\")\n",
    "    indices_of_nearest_neighbors = utils.indices_of_nearest_neighbors_from_distances(distances)\n",
    "\n",
    "    results = []\n",
    "    count = min(count, len(documents))\n",
    "    for idx in indices_of_nearest_neighbors[:count]:\n",
    "        document = documents[idx]\n",
    "        results.append({\n",
    "            \"id\": document[\"id\"],\n",
    "            \"index\": idx,\n",
    "            \"content\": document[\"content\"],\n",
    "            \"distance\": distances[idx]\n",
    "        })\n",
    "\n",
    "    return results"
   ]
  },
  {
   "cell_type": "markdown",
   "metadata": {},
   "source": [
    "### Precompute"
   ]
  },
  {
   "cell_type": "code",
   "execution_count": 150,
   "metadata": {},
   "outputs": [],
   "source": [
    "df = pd.read_csv(\"data.csv\")"
   ]
  },
  {
   "cell_type": "code",
   "execution_count": 151,
   "metadata": {},
   "outputs": [],
   "source": [
    "documents = []\n",
    "for i, query in df.iterrows():\n",
    "    documents.append({\n",
    "        \"id\": query.id,\n",
    "        \"content\": f\"{query['name']} {query.description or ''}\".strip()\n",
    "    })"
   ]
  },
  {
   "cell_type": "code",
   "execution_count": 161,
   "metadata": {},
   "outputs": [
    {
     "name": "stderr",
     "output_type": "stream",
     "text": [
      "100%|██████████| 432/432 [00:00<00:00, 1281428.10it/s]\n"
     ]
    }
   ],
   "source": [
    "for document in tqdm.tqdm(documents):\n",
    "    embedding_from_string(document[\"content\"], engine=\"text-similarity-babbage-001\", save=False)\n",
    "\n",
    "save_cache()"
   ]
  },
  {
   "cell_type": "markdown",
   "metadata": {},
   "source": [
    "### Combine"
   ]
  },
  {
   "cell_type": "code",
   "execution_count": 38,
   "metadata": {},
   "outputs": [],
   "source": [
    "files = list(pathlib.Path(\"data/\").rglob(\"*.csv\"))\n",
    "dfs = [pd.read_csv(file) for file in files]\n",
    "df = pd.concat(dfs).reset_index(drop=True)\n",
    "df = drop_duplicates(df)\n",
    "df.to_csv(\"data.csv\")"
   ]
  },
  {
   "cell_type": "markdown",
   "metadata": {},
   "source": [
    "## Generate SQL"
   ]
  },
  {
   "cell_type": "code",
   "execution_count": 87,
   "metadata": {},
   "outputs": [],
   "source": [
    "df = pd.read_csv(\"data/data.csv\")"
   ]
  },
  {
   "cell_type": "code",
   "execution_count": 88,
   "metadata": {},
   "outputs": [],
   "source": [
    "documents = []\n",
    "for i, query in df.iterrows():\n",
    "    documents.append({\n",
    "        \"id\": query.id,\n",
    "        \"content\": f\"{query['name']} {query.description or ''}\".strip()\n",
    "    })"
   ]
  },
  {
   "cell_type": "code",
   "execution_count": 121,
   "metadata": {},
   "outputs": [],
   "source": [
    "query = \"number of ens registered accounts\"\n",
    "recommendations = find_best_documents(query, documents, count=20)\n",
    "recommendations = [r for r in recommendations if r[\"distance\"] < 0.25]"
   ]
  },
  {
   "cell_type": "code",
   "execution_count": 122,
   "metadata": {},
   "outputs": [
    {
     "data": {
      "text/plain": [
       "20"
      ]
     },
     "execution_count": 122,
     "metadata": {},
     "output_type": "execute_result"
    }
   ],
   "source": [
    "len(recommendations)"
   ]
  },
  {
   "cell_type": "code",
   "execution_count": 123,
   "metadata": {},
   "outputs": [],
   "source": [
    "prompt = \"\"\n",
    "for doc in recommendations:\n",
    "    raw_doc = df.iloc[doc[\"index\"]]\n",
    "    \n",
    "    prompt += f\"/* Write SQL query: {raw_doc['name']} */\\n\"\n",
    "    prompt += raw_doc[\"query\"].strip()\n",
    "    prompt += \"\\n\\n\"\n",
    "\n",
    "    if len(prompt) >= 6000:\n",
    "        break\n",
    "\n",
    "prompt += f\"/* Write SQL query: {query} */\\n\""
   ]
  },
  {
   "cell_type": "code",
   "execution_count": 126,
   "metadata": {},
   "outputs": [],
   "source": [
    "result = openai.Completion.create(\n",
    "  model=\"code-davinci-002\",\n",
    "  prompt=prompt,\n",
    "  max_tokens=512,\n",
    "  temperature=0,\n",
    "  stop=[\"STOP\", \"/* Write SQL\"]\n",
    ")"
   ]
  },
  {
   "cell_type": "code",
   "execution_count": 132,
   "metadata": {},
   "outputs": [
    {
     "name": "stdout",
     "output_type": "stream",
     "text": [
      "SELECT COUNT(*) FROM (\n",
      "    SELECT DISTINCT(owner) FROM (\n",
      "        SELECT * FROM ethereumnameservice.\"ENSRegistry_evt_NewOwner\"\n",
      "        UNION\n",
      "        SELECT * FROM ethereumnameservice.\"ENSRegistryWithFallback_evt_NewOwner\"\n",
      "    ) as rr\n",
      ") as r\n"
     ]
    }
   ],
   "source": [
    "completion = result.choices[0].text.strip()\n",
    "print(completion)"
   ]
  }
 ],
 "metadata": {
  "kernelspec": {
   "display_name": "Python 3.8.13 ('sahara')",
   "language": "python",
   "name": "python3"
  },
  "language_info": {
   "codemirror_mode": {
    "name": "ipython",
    "version": 3
   },
   "file_extension": ".py",
   "mimetype": "text/x-python",
   "name": "python",
   "nbconvert_exporter": "python",
   "pygments_lexer": "ipython3",
   "version": "3.8.13"
  },
  "orig_nbformat": 4,
  "vscode": {
   "interpreter": {
    "hash": "1fe31cd8a6ccf64627f122f4639693caed8bd5d61a632260ef19ae32aaa3b5e3"
   }
  }
 },
 "nbformat": 4,
 "nbformat_minor": 2
}
