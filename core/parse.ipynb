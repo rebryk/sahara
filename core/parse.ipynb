{
 "cells": [
  {
   "cell_type": "code",
   "execution_count": 44,
   "metadata": {},
   "outputs": [
    {
     "name": "stdout",
     "output_type": "stream",
     "text": [
      "The autoreload extension is already loaded. To reload it, use:\n",
      "  %reload_ext autoreload\n"
     ]
    }
   ],
   "source": [
    "%load_ext autoreload\n",
    "%autoreload 2"
   ]
  },
  {
   "cell_type": "markdown",
   "metadata": {},
   "source": [
    "## GraphQL"
   ]
  },
  {
   "cell_type": "code",
   "execution_count": 45,
   "metadata": {},
   "outputs": [],
   "source": [
    "import time\n",
    "import json\n",
    "import tqdm\n",
    "import requests\n",
    "import pandas as pd"
   ]
  },
  {
   "cell_type": "code",
   "execution_count": 46,
   "metadata": {},
   "outputs": [],
   "source": [
    "DUNE_GRAPHQL = \"https://core-hsr.dune.com/v1/graphql\"\n",
    "DUNE_AUTH = \"https://dune.com/api/auth/session\"\n",
    "\n",
    "HEADERS = {\n",
    "    \"content-type\": \"application/json\",\n",
    "    \"user-agent\": \"Mozilla/5.0 (Macintosh; Intel Mac OS X 10_15_7) AppleWebKit/537.36 (KHTML, like Gecko) Chrome/107.0.0.0 Safari/537.36\",\n",
    "    \"x-hasura-api-key\": \"\",\n",
    "}"
   ]
  },
  {
   "cell_type": "markdown",
   "metadata": {},
   "source": [
    "### Find dashboards"
   ]
  },
  {
   "cell_type": "code",
   "execution_count": 47,
   "metadata": {},
   "outputs": [],
   "source": [
    "def find_dashboards(query: str, limit: int = 20):\n",
    "    data = {\n",
    "        \"operationName\": \"ListBrowseDashboards\",\n",
    "        \"variables\": {\n",
    "            \"include_favs_last_24h\": False,\n",
    "            \"include_favs_last_7d\": False,\n",
    "            \"include_favs_last_30d\": False,\n",
    "            \"include_favs_all_time\": True,\n",
    "            \"filter_name\": {\n",
    "                \"_ilike\": f\"%{query}%\"\n",
    "            },\n",
    "            \"filter_tags\": {},\n",
    "            \"filter_custom\": [],\n",
    "            \"order\": [\n",
    "                {\n",
    "                    \"trending_scores\": {\n",
    "                        \"score_24h\": \"desc_nulls_last\"\n",
    "                    }\n",
    "                },\n",
    "                {\n",
    "                    \"dashboard_favorite_count_all\": {\n",
    "                        \"favorite_count\": \"desc_nulls_last\"\n",
    "                    }\n",
    "                }\n",
    "            ],\n",
    "            \"limit\": limit,\n",
    "            \"offset\": 0\n",
    "        },\n",
    "        \"query\": \"query ListBrowseDashboards($filter_name: String_comparison_exp, $filter_tags: jsonb_comparison_exp, $filter_custom: [dashboards_bool_exp!], $order: [dashboards_order_by!], $limit: Int!, $offset: Int!, $include_favs_last_24h: Boolean! = false, $include_favs_last_7d: Boolean! = false, $include_favs_last_30d: Boolean! = false, $include_favs_all_time: Boolean! = false) {\\n  dashboards(\\n    where: {is_archived: {_eq: false}, name: $filter_name, tags: $filter_tags, _and: $filter_custom}\\n    limit: $limit\\n    offset: $offset\\n    order_by: $order\\n  ) {\\n    ...DashboardItem\\n    __typename\\n  }\\n  dashboards_aggregate(\\n    where: {is_archived: {_eq: false}, name: $filter_name, tags: $filter_tags, _and: $filter_custom}\\n  ) {\\n    aggregate {\\n      count\\n      __typename\\n    }\\n    __typename\\n  }\\n}\\n\\nfragment DashboardItem on dashboards {\\n  id\\n  name\\n  slug\\n  created_at\\n  tags\\n  user {\\n    name\\n    profile_image_url\\n    __typename\\n  }\\n  team {\\n    handle\\n    profile_image_url\\n    __typename\\n  }\\n  is_private\\n  dashboard_favorite_count_all @include(if: $include_favs_all_time) {\\n    favorite_count\\n    __typename\\n  }\\n  dashboard_favorite_count_last_24h @include(if: $include_favs_last_24h) {\\n    favorite_count\\n    __typename\\n  }\\n  dashboard_favorite_count_last_7d @include(if: $include_favs_last_7d) {\\n    favorite_count\\n    __typename\\n  }\\n  dashboard_favorite_count_last_30d @include(if: $include_favs_last_30d) {\\n    favorite_count\\n    __typename\\n  }\\n  trending_scores {\\n    score_1h\\n    score_4h\\n    score_24h\\n    updated_at\\n    __typename\\n  }\\n  __typename\\n}\\n\"\n",
    "    }\n",
    "\n",
    "    r = requests.post(DUNE_GRAPHQL, json=data, headers=HEADERS)\n",
    "    json = r.json()\n",
    "\n",
    "    dashboards = []\n",
    "    for dashboard in json[\"data\"][\"dashboards\"]:\n",
    "        if dashboard[\"user\"] is None:\n",
    "            continue\n",
    "\n",
    "        user, slug = dashboard[\"user\"][\"name\"], dashboard[\"slug\"]\n",
    "\n",
    "        favorite_count = dashboard[\"dashboard_favorite_count_all\"]\n",
    "        dashboards.append({\n",
    "            \"url\": f\"https://dune.com/{user}/{slug}\",\n",
    "            \"favorite_count\": favorite_count[\"favorite_count\"] if favorite_count else 0\n",
    "        })\n",
    "\n",
    "    dashboards = pd.DataFrame(dashboards)\n",
    "    return dashboards"
   ]
  },
  {
   "cell_type": "markdown",
   "metadata": {},
   "source": [
    "### Parse dashboard"
   ]
  },
  {
   "cell_type": "code",
   "execution_count": 48,
   "metadata": {},
   "outputs": [],
   "source": [
    "def parse_dashboard(url: str):\n",
    "    *_, user, slug = url.rsplit(\"/\", 2)\n",
    "\n",
    "    data = {\n",
    "        \"operationName\": \"FindDashboard\",\n",
    "        \"variables\": {\n",
    "            \"session_filter\": {},\n",
    "            \"user\": user,\n",
    "            \"slug\": slug,\n",
    "        },\n",
    "        \"query\": \"query FindDashboard($session_filter: Int_comparison_exp!, $user: String!, $slug: String!) {\\n  dashboards(\\n    where: {slug: {_eq: $slug}, _or: [{user: {name: {_eq: $user}}}, {team: {handle: {_eq: $user}}}]}\\n  ) {\\n    ...Dashboard\\n    favorite_dashboards(where: {user_id: $session_filter}, limit: 1) {\\n      created_at\\n      __typename\\n    }\\n    __typename\\n  }\\n}\\n\\nfragment Dashboard on dashboards {\\n  id\\n  name\\n  slug\\n  is_private\\n  is_archived\\n  created_at\\n  updated_at\\n  tags\\n  user {\\n    ...User\\n    __typename\\n  }\\n  team {\\n    ...Team\\n    __typename\\n  }\\n  forked_dashboard {\\n    slug\\n    name\\n    user {\\n      name\\n      __typename\\n    }\\n    team {\\n      handle\\n      __typename\\n    }\\n    __typename\\n  }\\n  text_widgets {\\n    id\\n    created_at\\n    updated_at\\n    text\\n    options\\n    __typename\\n  }\\n  visualization_widgets {\\n    id\\n    created_at\\n    updated_at\\n    options\\n    visualization {\\n      ...Visualization\\n      __typename\\n    }\\n    __typename\\n  }\\n  param_widgets {\\n    id\\n    key\\n    visualization_widget_id\\n    query_id\\n    dashboard_id\\n    options\\n    created_at\\n    updated_at\\n    __typename\\n  }\\n  dashboard_favorite_count_all {\\n    favorite_count\\n    __typename\\n  }\\n  trending_scores {\\n    score_1h\\n    score_4h\\n    score_24h\\n    updated_at\\n    __typename\\n  }\\n  __typename\\n}\\n\\nfragment User on users {\\n  id\\n  name\\n  profile_image_url\\n  __typename\\n}\\n\\nfragment Team on teams {\\n  id\\n  name\\n  handle\\n  profile_image_url\\n  __typename\\n}\\n\\nfragment Visualization on visualizations {\\n  id\\n  type\\n  name\\n  options\\n  created_at\\n  query_details {\\n    query_id\\n    name\\n    description\\n    show_watermark\\n    parameters\\n    user {\\n      id\\n      name\\n      profile_image_url\\n      __typename\\n    }\\n    team {\\n      id\\n      name\\n      handle\\n      profile_image_url\\n      __typename\\n    }\\n    __typename\\n  }\\n  __typename\\n}\\n\"\n",
    "    }\n",
    "\n",
    "    r = requests.post(DUNE_GRAPHQL, json=data, headers=HEADERS)\n",
    "    json = r.json()\n",
    "\n",
    "    assert \"data\" in json, \"token expired\"\n",
    "\n",
    "    assert len(json[\"data\"][\"dashboards\"]) == 1\n",
    "    dashboard = json[\"data\"][\"dashboards\"][0]\n",
    "\n",
    "    ids = []\n",
    "    for widget in dashboard[\"visualization_widgets\"]:\n",
    "        query_id = widget[\"visualization\"][\"query_details\"][\"query_id\"]\n",
    "        ids.append(query_id)\n",
    "\n",
    "    return ids"
   ]
  },
  {
   "cell_type": "markdown",
   "metadata": {},
   "source": [
    "### Parse query"
   ]
  },
  {
   "cell_type": "code",
   "execution_count": 49,
   "metadata": {},
   "outputs": [],
   "source": [
    "def parse_query(query_id: int):\n",
    "    data = {\n",
    "        \"operationName\": \"FindQuery\",\n",
    "        \"variables\": {\n",
    "            \"favs_last_24h\": False,\n",
    "            \"favs_last_7d\": False,\n",
    "            \"favs_last_30d\": False,\n",
    "            \"favs_all_time\": True,\n",
    "            \"session_filter\": {},\n",
    "            \"id\": query_id\n",
    "        },\n",
    "        \"query\": \"query FindQuery($session_filter: Int_comparison_exp!, $id: Int!, $favs_last_24h: Boolean! = false, $favs_last_7d: Boolean! = false, $favs_last_30d: Boolean! = false, $favs_all_time: Boolean! = true) {\\n  queries(where: {id: {_eq: $id}}) {\\n    ...Query\\n    favorite_queries(where: {user_id: $session_filter}, limit: 1) {\\n      created_at\\n      __typename\\n    }\\n    __typename\\n  }\\n}\\n\\nfragment Query on queries {\\n  ...BaseQuery\\n  ...QueryVisualizations\\n  ...QueryForked\\n  ...QueryUsers\\n  ...QueryTeams\\n  ...QueryFavorites\\n  __typename\\n}\\n\\nfragment BaseQuery on queries {\\n  id\\n  dataset_id\\n  name\\n  description\\n  query\\n  is_private\\n  is_temp\\n  is_archived\\n  created_at\\n  updated_at\\n  schedule\\n  tags\\n  parameters\\n  __typename\\n}\\n\\nfragment QueryVisualizations on queries {\\n  visualizations {\\n    id\\n    type\\n    name\\n    options\\n    created_at\\n    __typename\\n  }\\n  __typename\\n}\\n\\nfragment QueryForked on queries {\\n  forked_query {\\n    id\\n    name\\n    user {\\n      name\\n      __typename\\n    }\\n    team {\\n      handle\\n      __typename\\n    }\\n    __typename\\n  }\\n  __typename\\n}\\n\\nfragment QueryUsers on queries {\\n  user {\\n    ...User\\n    __typename\\n  }\\n  team {\\n    id\\n    name\\n    handle\\n    profile_image_url\\n    __typename\\n  }\\n  __typename\\n}\\n\\nfragment User on users {\\n  id\\n  name\\n  profile_image_url\\n  __typename\\n}\\n\\nfragment QueryTeams on queries {\\n  team {\\n    ...Team\\n    __typename\\n  }\\n  __typename\\n}\\n\\nfragment Team on teams {\\n  id\\n  name\\n  handle\\n  profile_image_url\\n  __typename\\n}\\n\\nfragment QueryFavorites on queries {\\n  query_favorite_count_all @include(if: $favs_all_time) {\\n    favorite_count\\n    __typename\\n  }\\n  query_favorite_count_last_24h @include(if: $favs_last_24h) {\\n    favorite_count\\n    __typename\\n  }\\n  query_favorite_count_last_7d @include(if: $favs_last_7d) {\\n    favorite_count\\n    __typename\\n  }\\n  query_favorite_count_last_30d @include(if: $favs_last_30d) {\\n    favorite_count\\n    __typename\\n  }\\n  __typename\\n}\\n\"\n",
    "    }\n",
    "\n",
    "    r = requests.post(DUNE_GRAPHQL, json=data, headers=HEADERS)\n",
    "    json_data = r.json()\n",
    "\n",
    "    assert len(json_data[\"data\"][\"queries\"]) == 1\n",
    "    query = json_data[\"data\"][\"queries\"][0]\n",
    "\n",
    "    return {\n",
    "        \"id\": query[\"id\"],\n",
    "        \"name\": query[\"name\"], \n",
    "        \"description\": query[\"description\"],\n",
    "        \"visualizations\": json.dumps(query[\"visualizations\"]),\n",
    "        \"query\": query[\"query\"]\n",
    "    }"
   ]
  },
  {
   "cell_type": "markdown",
   "metadata": {},
   "source": [
    "### Collect data"
   ]
  },
  {
   "cell_type": "code",
   "execution_count": 50,
   "metadata": {},
   "outputs": [],
   "source": [
    "def drop_duplicates(df: pd.DataFrame) -> pd.DataFrame:\n",
    "    df = df.drop_duplicates(subset=\"url\", keep=\"first\")\n",
    "    df = df.reset_index(drop=True)\n",
    "    return df"
   ]
  },
  {
   "cell_type": "code",
   "execution_count": 64,
   "metadata": {},
   "outputs": [
    {
     "data": {
      "text/html": [
       "<div>\n",
       "<style scoped>\n",
       "    .dataframe tbody tr th:only-of-type {\n",
       "        vertical-align: middle;\n",
       "    }\n",
       "\n",
       "    .dataframe tbody tr th {\n",
       "        vertical-align: top;\n",
       "    }\n",
       "\n",
       "    .dataframe thead th {\n",
       "        text-align: right;\n",
       "    }\n",
       "</style>\n",
       "<table border=\"1\" class=\"dataframe\">\n",
       "  <thead>\n",
       "    <tr style=\"text-align: right;\">\n",
       "      <th></th>\n",
       "      <th>url</th>\n",
       "      <th>favorite_count</th>\n",
       "    </tr>\n",
       "  </thead>\n",
       "  <tbody>\n",
       "    <tr>\n",
       "      <th>0</th>\n",
       "      <td>https://dune.com/rchen8/defi-users-over-time</td>\n",
       "      <td>2563</td>\n",
       "    </tr>\n",
       "    <tr>\n",
       "      <th>1</th>\n",
       "      <td>https://dune.com/jefftshaw/Balancer</td>\n",
       "      <td>405</td>\n",
       "    </tr>\n",
       "    <tr>\n",
       "      <th>2</th>\n",
       "      <td>https://dune.com/dsalv/Liquidations</td>\n",
       "      <td>207</td>\n",
       "    </tr>\n",
       "    <tr>\n",
       "      <th>3</th>\n",
       "      <td>https://dune.com/k06a/DeFi-Project-Users</td>\n",
       "      <td>101</td>\n",
       "    </tr>\n",
       "    <tr>\n",
       "      <th>4</th>\n",
       "      <td>https://dune.com/eliasimos/DeFi-granular-monit...</td>\n",
       "      <td>65</td>\n",
       "    </tr>\n",
       "  </tbody>\n",
       "</table>\n",
       "</div>"
      ],
      "text/plain": [
       "                                                 url  favorite_count\n",
       "0       https://dune.com/rchen8/defi-users-over-time            2563\n",
       "1                https://dune.com/jefftshaw/Balancer             405\n",
       "2                https://dune.com/dsalv/Liquidations             207\n",
       "3           https://dune.com/k06a/DeFi-Project-Users             101\n",
       "4  https://dune.com/eliasimos/DeFi-granular-monit...              65"
      ]
     },
     "execution_count": 64,
     "metadata": {},
     "output_type": "execute_result"
    }
   ],
   "source": [
    "tags = [\"defi\", \"dex\", \"nft\", \"ethereum\", \"volume\", \"opensea\", \"uniswap\", \"0x\", \"amm\", \"lens\", \"ens\"]\n",
    "dashboards = [find_dashboards(tag, limit=20) for tag in tags]\n",
    "\n",
    "dashboards = pd.concat(dashboards)\n",
    "dashboards = drop_duplicates(dashboards)\n",
    "\n",
    "dashboards.head()"
   ]
  },
  {
   "cell_type": "code",
   "execution_count": 65,
   "metadata": {},
   "outputs": [
    {
     "data": {
      "text/plain": [
       "185"
      ]
     },
     "execution_count": 65,
     "metadata": {},
     "output_type": "execute_result"
    }
   ],
   "source": [
    "len(dashboards)"
   ]
  },
  {
   "cell_type": "code",
   "execution_count": 66,
   "metadata": {},
   "outputs": [
    {
     "name": "stderr",
     "output_type": "stream",
     "text": [
      " 12%|█▏        | 22/185 [06:37<1:02:49, 23.12s/it]"
     ]
    }
   ],
   "source": [
    "queries = []\n",
    "\n",
    "for i, row in tqdm.tqdm(dashboards.iterrows(), total=len(dashboards)):\n",
    "    for id in parse_dashboard(row.url):\n",
    "        try:\n",
    "            queries.append(parse_query(id))\n",
    "        except Exception as e:\n",
    "            pass"
   ]
  },
  {
   "cell_type": "code",
   "execution_count": 59,
   "metadata": {},
   "outputs": [],
   "source": [
    "queries = pd.DataFrame(queries)\n",
    "queries = queries.drop_duplicates(subset=\"id\", keep=\"first\")\n",
    "queries = queries.drop_duplicates(subset=\"name\", keep=\"first\")\n",
    "\n",
    "mask = [it.strip() != \"\" for it in queries[\"name\"]]\n",
    "queries = queries[mask].reset_index(drop=True)\n",
    "\n",
    "queries = queries.reset_index(drop=True)"
   ]
  },
  {
   "cell_type": "code",
   "execution_count": 60,
   "metadata": {},
   "outputs": [
    {
     "data": {
      "text/html": [
       "<div>\n",
       "<style scoped>\n",
       "    .dataframe tbody tr th:only-of-type {\n",
       "        vertical-align: middle;\n",
       "    }\n",
       "\n",
       "    .dataframe tbody tr th {\n",
       "        vertical-align: top;\n",
       "    }\n",
       "\n",
       "    .dataframe thead th {\n",
       "        text-align: right;\n",
       "    }\n",
       "</style>\n",
       "<table border=\"1\" class=\"dataframe\">\n",
       "  <thead>\n",
       "    <tr style=\"text-align: right;\">\n",
       "      <th></th>\n",
       "      <th>id</th>\n",
       "      <th>name</th>\n",
       "      <th>description</th>\n",
       "      <th>visualizations</th>\n",
       "      <th>query</th>\n",
       "    </tr>\n",
       "  </thead>\n",
       "  <tbody>\n",
       "    <tr>\n",
       "      <th>0</th>\n",
       "      <td>13352</td>\n",
       "      <td>Total Harvest Finance users over time</td>\n",
       "      <td>None</td>\n",
       "      <td>[{\"id\": 26744, \"type\": \"table\", \"name\": \"Table...</td>\n",
       "      <td>SELECT date, sum(users) OVER (\\n              ...</td>\n",
       "    </tr>\n",
       "    <tr>\n",
       "      <th>1</th>\n",
       "      <td>37629</td>\n",
       "      <td>Total Tornado Cash users over time</td>\n",
       "      <td></td>\n",
       "      <td>[{\"id\": 74571, \"type\": \"table\", \"name\": \"Query...</td>\n",
       "      <td>SELECT date,\\n       sum(users) OVER (ORDER BY...</td>\n",
       "    </tr>\n",
       "    <tr>\n",
       "      <th>2</th>\n",
       "      <td>11519</td>\n",
       "      <td>Total SushiSwap users over time</td>\n",
       "      <td>None</td>\n",
       "      <td>[{\"id\": 22882, \"type\": \"table\", \"name\": \"Table...</td>\n",
       "      <td>SELECT date, sum(users) OVER (\\n              ...</td>\n",
       "    </tr>\n",
       "    <tr>\n",
       "      <th>3</th>\n",
       "      <td>2998</td>\n",
       "      <td>Total 0x users over time</td>\n",
       "      <td>None</td>\n",
       "      <td>[{\"id\": 5791, \"type\": \"table\", \"name\": \"Table\"...</td>\n",
       "      <td>SELECT date, sum(users) OVER (\\n              ...</td>\n",
       "    </tr>\n",
       "    <tr>\n",
       "      <th>4</th>\n",
       "      <td>2740</td>\n",
       "      <td>Total Uniswap users over time</td>\n",
       "      <td></td>\n",
       "      <td>[{\"id\": 5276, \"type\": \"table\", \"name\": \"Table\"...</td>\n",
       "      <td>SELECT date, sum(users) OVER (\\n              ...</td>\n",
       "    </tr>\n",
       "  </tbody>\n",
       "</table>\n",
       "</div>"
      ],
      "text/plain": [
       "      id                                   name description  \\\n",
       "0  13352  Total Harvest Finance users over time        None   \n",
       "1  37629     Total Tornado Cash users over time               \n",
       "2  11519        Total SushiSwap users over time        None   \n",
       "3   2998               Total 0x users over time        None   \n",
       "4   2740          Total Uniswap users over time               \n",
       "\n",
       "                                      visualizations  \\\n",
       "0  [{\"id\": 26744, \"type\": \"table\", \"name\": \"Table...   \n",
       "1  [{\"id\": 74571, \"type\": \"table\", \"name\": \"Query...   \n",
       "2  [{\"id\": 22882, \"type\": \"table\", \"name\": \"Table...   \n",
       "3  [{\"id\": 5791, \"type\": \"table\", \"name\": \"Table\"...   \n",
       "4  [{\"id\": 5276, \"type\": \"table\", \"name\": \"Table\"...   \n",
       "\n",
       "                                               query  \n",
       "0  SELECT date, sum(users) OVER (\\n              ...  \n",
       "1  SELECT date,\\n       sum(users) OVER (ORDER BY...  \n",
       "2  SELECT date, sum(users) OVER (\\n              ...  \n",
       "3  SELECT date, sum(users) OVER (\\n              ...  \n",
       "4  SELECT date, sum(users) OVER (\\n              ...  "
      ]
     },
     "execution_count": 60,
     "metadata": {},
     "output_type": "execute_result"
    }
   ],
   "source": [
    "queries.head()"
   ]
  },
  {
   "cell_type": "code",
   "execution_count": 61,
   "metadata": {},
   "outputs": [
    {
     "data": {
      "text/plain": [
       "432"
      ]
     },
     "execution_count": 61,
     "metadata": {},
     "output_type": "execute_result"
    }
   ],
   "source": [
    "len(queries)"
   ]
  },
  {
   "cell_type": "code",
   "execution_count": 62,
   "metadata": {},
   "outputs": [],
   "source": [
    "queries.to_csv(\"data/data.csv\", index=False)"
   ]
  },
  {
   "cell_type": "markdown",
   "metadata": {},
   "source": [
    "## Selenium"
   ]
  },
  {
   "cell_type": "code",
   "execution_count": null,
   "metadata": {},
   "outputs": [],
   "source": [
    "import bs4\n",
    "import time\n",
    "\n",
    "from selenium import webdriver\n",
    "from webdriver_manager import chrome\n",
    "from selenium.webdriver.chrome import service"
   ]
  },
  {
   "cell_type": "code",
   "execution_count": null,
   "metadata": {},
   "outputs": [],
   "source": [
    "def get_page_html(url: str, delay: int = 10) -> str:\n",
    "    driver = webdriver.Chrome(service=service.Service(chrome.ChromeDriverManager().install()))\n",
    "    driver.get(url)\n",
    "    time.sleep(delay)\n",
    "    return driver.page_source"
   ]
  }
 ],
 "metadata": {
  "kernelspec": {
   "display_name": "Python 3.8.13 ('sahara')",
   "language": "python",
   "name": "python3"
  },
  "language_info": {
   "codemirror_mode": {
    "name": "ipython",
    "version": 3
   },
   "file_extension": ".py",
   "mimetype": "text/x-python",
   "name": "python",
   "nbconvert_exporter": "python",
   "pygments_lexer": "ipython3",
   "version": "3.8.13"
  },
  "orig_nbformat": 4,
  "vscode": {
   "interpreter": {
    "hash": "1fe31cd8a6ccf64627f122f4639693caed8bd5d61a632260ef19ae32aaa3b5e3"
   }
  }
 },
 "nbformat": 4,
 "nbformat_minor": 2
}
